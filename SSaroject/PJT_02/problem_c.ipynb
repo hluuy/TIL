{
 "cells": [
  {
   "cell_type": "code",
   "execution_count": 13,
   "id": "0c9c6733",
   "metadata": {},
   "outputs": [],
   "source": [
    "import csv\n",
    "import numpy as np\n",
    "import pandas as pd\n",
    "import matplotlib.pyplot as plt\n",
    "\n",
    "# CSV 파일 경로\n",
    "csv_path = \"data/NFLX.csv\"\n",
    "\n",
    "# CSV 파일 읽어오기 (첫 번째, 마지막 열 제외)\n",
    "df = pd.read_csv(csv_path, usecols=['Date', 'Open', 'High', 'Low', 'Close'])\n",
    "\n",
    "# 2021년 이후 데이터 필터링\n",
    "df_after_2021 = df[df[\"Date\"] >= \"2021\"]\n",
    "\n",
    "max_price = df_after_2021['Close'].max()\n",
    "min_price = df_after_2021['Close'].min()\n"
   ]
  },
  {
   "cell_type": "code",
   "execution_count": 14,
   "id": "fc64de06",
   "metadata": {},
   "outputs": [
    {
     "name": "stdout",
     "output_type": "stream",
     "text": [
      "최고 종가:  691.690002\n",
      "최저 종가:  359.700012\n"
     ]
    }
   ],
   "source": [
    "print('최고 종가: ', max_price)\n",
    "print('최저 종가: ', min_price)"
   ]
  },
  {
   "cell_type": "code",
   "execution_count": null,
   "id": "6d57b53e",
   "metadata": {},
   "outputs": [],
   "source": []
  }
 ],
 "metadata": {
  "kernelspec": {
   "display_name": "Python 3 (ipykernel)",
   "language": "python",
   "name": "python3"
  },
  "language_info": {
   "codemirror_mode": {
    "name": "ipython",
    "version": 3
   },
   "file_extension": ".py",
   "mimetype": "text/x-python",
   "name": "python",
   "nbconvert_exporter": "python",
   "pygments_lexer": "ipython3",
   "version": "3.9.13"
  },
  "toc": {
   "base_numbering": 1,
   "nav_menu": {},
   "number_sections": true,
   "sideBar": true,
   "skip_h1_title": false,
   "title_cell": "Table of Contents",
   "title_sidebar": "Contents",
   "toc_cell": false,
   "toc_position": {},
   "toc_section_display": true,
   "toc_window_display": false
  }
 },
 "nbformat": 4,
 "nbformat_minor": 5
}
